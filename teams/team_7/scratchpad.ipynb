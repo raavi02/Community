{
 "cells": [
  {
   "cell_type": "code",
   "id": "initial_id",
   "metadata": {
    "collapsed": true,
    "ExecuteTime": {
     "end_time": "2024-11-18T18:27:34.043765Z",
     "start_time": "2024-11-18T18:27:34.038253Z"
    }
   },
   "source": [
    "import random\n",
    "\n",
    "seed = 42\n",
    "player_id = 7\n",
    "\n",
    "# Creates the abiliti\n",
    "def ability_distribution(num_abilities: int, seed, player_id) -> list[int]:\n",
    "    random_generator = random.Random(seed + player_id)\n",
    "    abilities = get_uniform_abilities(random_generator, num_abilities, 5, 10)\n",
    "    \n",
    "    return abilities\n",
    "\n",
    "def get_uniform_abilities(local_random_ability, num_abilities, low, high):\n",
    "    return [local_random_ability.randint(low, high) for _ in range(num_abilities)]\n",
    "\n",
    "\n",
    "\n",
    "abilities = ability_distribution(8, 7, 42)\n",
    "abilities\n"
   ],
   "outputs": [
    {
     "data": {
      "text/plain": [
       "[5, 7, 8, 5, 7, 9, 9, 5]"
      ]
     },
     "execution_count": 7,
     "metadata": {},
     "output_type": "execute_result"
    }
   ],
   "execution_count": 7
  },
  {
   "metadata": {
    "ExecuteTime": {
     "end_time": "2024-11-18T18:24:24.545725Z",
     "start_time": "2024-11-18T18:24:24.542553Z"
    }
   },
   "cell_type": "code",
   "source": [
    "# Generate random numbers\n",
    "print(local_random_ability.random())       # Random float between 0 and 1"
   ],
   "id": "831d3edab883660f",
   "outputs": [
    {
     "name": "stdout",
     "output_type": "stream",
     "text": [
      "2\n",
      "0.344329889217338\n"
     ]
    }
   ],
   "execution_count": 3
  },
  {
   "metadata": {},
   "cell_type": "code",
   "outputs": [],
   "execution_count": null,
   "source": "",
   "id": "cd713363994775f6"
  }
 ],
 "metadata": {
  "kernelspec": {
   "display_name": "Python 3",
   "language": "python",
   "name": "python3"
  },
  "language_info": {
   "codemirror_mode": {
    "name": "ipython",
    "version": 2
   },
   "file_extension": ".py",
   "mimetype": "text/x-python",
   "name": "python",
   "nbconvert_exporter": "python",
   "pygments_lexer": "ipython2",
   "version": "2.7.6"
  }
 },
 "nbformat": 4,
 "nbformat_minor": 5
}
